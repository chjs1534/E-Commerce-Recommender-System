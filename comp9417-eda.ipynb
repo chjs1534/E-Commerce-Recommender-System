{
 "cells": [
  {
   "cell_type": "code",
   "execution_count": 1,
   "id": "d5618e32",
   "metadata": {
    "_cell_guid": "b1076dfc-b9ad-4769-8c92-a6c4dae69d19",
    "_uuid": "8f2839f25d086af736a60e9eeb907d3b93b6e0e5",
    "execution": {
     "iopub.execute_input": "2023-08-03T20:48:51.395854Z",
     "iopub.status.busy": "2023-08-03T20:48:51.395441Z",
     "iopub.status.idle": "2023-08-03T20:48:52.781096Z",
     "shell.execute_reply": "2023-08-03T20:48:52.780013Z"
    },
    "papermill": {
     "duration": 1.395198,
     "end_time": "2023-08-03T20:48:52.783856",
     "exception": false,
     "start_time": "2023-08-03T20:48:51.388658",
     "status": "completed"
    },
    "tags": []
   },
   "outputs": [
    {
     "name": "stderr",
     "output_type": "stream",
     "text": [
      "/opt/conda/lib/python3.10/site-packages/scipy/__init__.py:146: UserWarning: A NumPy version >=1.16.5 and <1.23.0 is required for this version of SciPy (detected version 1.23.5\n",
      "  warnings.warn(f\"A NumPy version >={np_minversion} and <{np_maxversion}\"\n"
     ]
    }
   ],
   "source": [
    "import matplotlib.pyplot as plt\n",
    "import seaborn as sns"
   ]
  },
  {
   "cell_type": "code",
   "execution_count": 2,
   "id": "cc0475c6",
   "metadata": {
    "execution": {
     "iopub.execute_input": "2023-08-03T20:48:52.796140Z",
     "iopub.status.busy": "2023-08-03T20:48:52.795229Z",
     "iopub.status.idle": "2023-08-03T20:49:05.064957Z",
     "shell.execute_reply": "2023-08-03T20:49:05.064007Z"
    },
    "papermill": {
     "duration": 12.278721,
     "end_time": "2023-08-03T20:49:05.067766",
     "exception": false,
     "start_time": "2023-08-03T20:48:52.789045",
     "status": "completed"
    },
    "tags": []
   },
   "outputs": [],
   "source": [
    "import polars as pl\n",
    "train = pl.read_parquet('../input/otto-train-and-test-data-for-local-validation/train.parquet')\n",
    "validA = pl.read_parquet('../input/otto-train-and-test-data-for-local-validation/test.parquet')\n",
    "validB = pl.read_parquet('../input/otto-train-and-test-data-for-local-validation/test_labels.parquet')"
   ]
  },
  {
   "cell_type": "code",
   "execution_count": 3,
   "id": "57bb5a85",
   "metadata": {
    "execution": {
     "iopub.execute_input": "2023-08-03T20:49:05.079048Z",
     "iopub.status.busy": "2023-08-03T20:49:05.078640Z",
     "iopub.status.idle": "2023-08-03T20:49:21.076659Z",
     "shell.execute_reply": "2023-08-03T20:49:21.075771Z"
    },
    "papermill": {
     "duration": 16.006923,
     "end_time": "2023-08-03T20:49:21.079670",
     "exception": false,
     "start_time": "2023-08-03T20:49:05.072747",
     "status": "completed"
    },
    "tags": []
   },
   "outputs": [],
   "source": [
    "import numpy as np\n",
    "import pandas as pd\n",
    "\n",
    "# Get subset of data \n",
    "fraction_of_sessions = 0.2\n",
    "\n",
    "train_sessions = train['session'].sample(fraction=fraction_of_sessions, seed=42)\n",
    "train = train.filter(pl.col(\"session\").is_in(train_sessions))\n",
    "train = train.sort(\"session\")\n",
    "\n",
    "validation_sessions = validA['session'].sample(fraction=fraction_of_sessions, seed=42)\n",
    "validA = validA.filter(pl.col(\"session\").is_in(validation_sessions))\n",
    "validA = validA.sort(\"session\")\n",
    "\n",
    "validB = validB.filter(pl.col(\"session\").is_in(validation_sessions))\n",
    "validB = validB.sort(\"session\")"
   ]
  },
  {
   "cell_type": "code",
   "execution_count": 4,
   "id": "8f58cbed",
   "metadata": {
    "execution": {
     "iopub.execute_input": "2023-08-03T20:49:21.091321Z",
     "iopub.status.busy": "2023-08-03T20:49:21.090888Z",
     "iopub.status.idle": "2023-08-03T20:49:21.101340Z",
     "shell.execute_reply": "2023-08-03T20:49:21.099803Z"
    },
    "papermill": {
     "duration": 0.019173,
     "end_time": "2023-08-03T20:49:21.103822",
     "exception": false,
     "start_time": "2023-08-03T20:49:21.084649",
     "status": "completed"
    },
    "tags": []
   },
   "outputs": [
    {
     "name": "stdout",
     "output_type": "stream",
     "text": [
      "shape: (152_268_691, 4)\n",
      "┌──────────┬─────────┬────────────┬──────┐\n",
      "│ session  ┆ aid     ┆ ts         ┆ type │\n",
      "│ ---      ┆ ---     ┆ ---        ┆ ---  │\n",
      "│ i32      ┆ i32     ┆ i32        ┆ u8   │\n",
      "╞══════════╪═════════╪════════════╪══════╡\n",
      "│ 0        ┆ 1517085 ┆ 1659304800 ┆ 0    │\n",
      "│ 0        ┆ 1563459 ┆ 1659304904 ┆ 0    │\n",
      "│ 0        ┆ 1309446 ┆ 1659367439 ┆ 0    │\n",
      "│ 0        ┆ 16246   ┆ 1659367719 ┆ 0    │\n",
      "│ …        ┆ …       ┆ …          ┆ …    │\n",
      "│ 11098496 ┆ 219035  ┆ 1661119183 ┆ 0    │\n",
      "│ 11098507 ┆ 1195266 ┆ 1661119189 ┆ 0    │\n",
      "│ 11098512 ┆ 8664    ┆ 1661119192 ┆ 0    │\n",
      "│ 11098522 ┆ 1524949 ┆ 1661119197 ┆ 0    │\n",
      "└──────────┴─────────┴────────────┴──────┘ shape: (5_763_556, 4)\n",
      "┌──────────┬─────────┬────────────┬──────┐\n",
      "│ session  ┆ aid     ┆ ts         ┆ type │\n",
      "│ ---      ┆ ---     ┆ ---        ┆ ---  │\n",
      "│ i32      ┆ i32     ┆ i32        ┆ u8   │\n",
      "╞══════════╪═════════╪════════════╪══════╡\n",
      "│ 11098529 ┆ 1105029 ┆ 1661119200 ┆ 0    │\n",
      "│ 11098531 ┆ 452188  ┆ 1661119200 ┆ 0    │\n",
      "│ 11098531 ┆ 1239060 ┆ 1661119227 ┆ 0    │\n",
      "│ 11098531 ┆ 1557766 ┆ 1661119243 ┆ 0    │\n",
      "│ …        ┆ …       ┆ …          ┆ …    │\n",
      "│ 12899763 ┆ 1539032 ┆ 1661723978 ┆ 0    │\n",
      "│ 12899769 ┆ 719585  ┆ 1661723962 ┆ 0    │\n",
      "│ 12899771 ┆ 1160655 ┆ 1661723965 ┆ 0    │\n",
      "│ 12899775 ┆ 1743151 ┆ 1661723970 ┆ 0    │\n",
      "└──────────┴─────────┴────────────┴──────┘ shape: (1_007_030, 3)\n",
      "┌──────────┬────────┬─────────────────────────────┐\n",
      "│ session  ┆ type   ┆ ground_truth                │\n",
      "│ ---      ┆ ---    ┆ ---                         │\n",
      "│ i64      ┆ str    ┆ list[i64]                   │\n",
      "╞══════════╪════════╪═════════════════════════════╡\n",
      "│ 11098529 ┆ clicks ┆ [1105029]                   │\n",
      "│ 11098531 ┆ orders ┆ [1365569]                   │\n",
      "│ 11098533 ┆ clicks ┆ [1417450]                   │\n",
      "│ 11098533 ┆ carts  ┆ [108676, 1406660, … 777657] │\n",
      "│ …        ┆ …      ┆ …                           │\n",
      "│ 12899763 ┆ clicks ┆ [750901]                    │\n",
      "│ 12899769 ┆ clicks ┆ [1393784]                   │\n",
      "│ 12899771 ┆ clicks ┆ [215084]                    │\n",
      "│ 12899775 ┆ clicks ┆ [1760714]                   │\n",
      "└──────────┴────────┴─────────────────────────────┘\n"
     ]
    }
   ],
   "source": [
    "print(train, validA, validB)"
   ]
  },
  {
   "cell_type": "code",
   "execution_count": 5,
   "id": "c48e5f3b",
   "metadata": {
    "execution": {
     "iopub.execute_input": "2023-08-03T20:49:21.115778Z",
     "iopub.status.busy": "2023-08-03T20:49:21.115362Z",
     "iopub.status.idle": "2023-08-03T20:49:22.073494Z",
     "shell.execute_reply": "2023-08-03T20:49:22.072223Z"
    },
    "papermill": {
     "duration": 0.967102,
     "end_time": "2023-08-03T20:49:22.076220",
     "exception": false,
     "start_time": "2023-08-03T20:49:21.109118",
     "status": "completed"
    },
    "tags": []
   },
   "outputs": [],
   "source": [
    "train = train.to_pandas()"
   ]
  },
  {
   "cell_type": "code",
   "execution_count": 6,
   "id": "a70bae9a",
   "metadata": {
    "execution": {
     "iopub.execute_input": "2023-08-03T20:49:22.088150Z",
     "iopub.status.busy": "2023-08-03T20:49:22.087759Z",
     "iopub.status.idle": "2023-08-03T20:49:22.092440Z",
     "shell.execute_reply": "2023-08-03T20:49:22.091316Z"
    },
    "papermill": {
     "duration": 0.013561,
     "end_time": "2023-08-03T20:49:22.094818",
     "exception": false,
     "start_time": "2023-08-03T20:49:22.081257",
     "status": "completed"
    },
    "tags": []
   },
   "outputs": [],
   "source": [
    "id2type = {0: 'clicks', 1: 'carts', 2: 'orders'}"
   ]
  },
  {
   "cell_type": "code",
   "execution_count": 7,
   "id": "b32e0424",
   "metadata": {
    "execution": {
     "iopub.execute_input": "2023-08-03T20:49:22.106956Z",
     "iopub.status.busy": "2023-08-03T20:49:22.106536Z",
     "iopub.status.idle": "2023-08-03T20:49:23.758920Z",
     "shell.execute_reply": "2023-08-03T20:49:23.757761Z"
    },
    "papermill": {
     "duration": 1.661634,
     "end_time": "2023-08-03T20:49:23.761588",
     "exception": false,
     "start_time": "2023-08-03T20:49:22.099954",
     "status": "completed"
    },
    "tags": []
   },
   "outputs": [
    {
     "data": {
      "image/png": "[encoded data removed]",
      "text/plain": [
       "<Figure size 640x480 with 1 Axes>"
      ]
     },
     "metadata": {},
     "output_type": "display_data"
    }
   ],
   "source": [
    "# Event Frequency\n",
    "event_counts = train['type'].value_counts()\n",
    "total_events = event_counts.sum()\n",
    "\n",
    "sns.barplot(x=event_counts.index.map(id2type), y=event_counts.values / total_events)\n",
    "plt.title('Event Frequency')\n",
    "plt.ylabel('Frequency')\n",
    "plt.xlabel('Type')\n",
    "plt.savefig('event_frequency.png')"
   ]
  },
  {
   "cell_type": "code",
   "execution_count": 8,
   "id": "b1a1e058",
   "metadata": {
    "execution": {
     "iopub.execute_input": "2023-08-03T20:49:23.775604Z",
     "iopub.status.busy": "2023-08-03T20:49:23.775181Z",
     "iopub.status.idle": "2023-08-03T20:49:27.697488Z",
     "shell.execute_reply": "2023-08-03T20:49:27.696262Z"
    },
    "papermill": {
     "duration": 3.93157,
     "end_time": "2023-08-03T20:49:27.700086",
     "exception": false,
     "start_time": "2023-08-03T20:49:23.768516",
     "status": "completed"
    },
    "tags": []
   },
   "outputs": [
    {
     "data": {
      "image/png": "[encoded data removed]",
      "text/plain": [
       "<Figure size 1000x800 with 1 Axes>"
      ]
     },
     "metadata": {},
     "output_type": "display_data"
    }
   ],
   "source": [
    "# Session Lengths\n",
    "session_lengths = train['session'].value_counts()\n",
    "lengths_counts = session_lengths.value_counts()\n",
    "\n",
    "plt.figure(figsize=(10,8))\n",
    "# sns.barplot(x=lengths_counts.index, y=lengths_counts.values)\n",
    "plt.bar(lengths_counts.index, lengths_counts.values)\n",
    "plt.title('Session Lengths')\n",
    "plt.ylabel('Frequency')\n",
    "plt.xlabel('Length')\n",
    "plt.xlim(0, 250)\n",
    "plt.savefig('session_lengths.png')"
   ]
  },
  {
   "cell_type": "code",
   "execution_count": 9,
   "id": "a4ee04ec",
   "metadata": {
    "execution": {
     "iopub.execute_input": "2023-08-03T20:49:27.713923Z",
     "iopub.status.busy": "2023-08-03T20:49:27.713494Z",
     "iopub.status.idle": "2023-08-03T20:49:30.138525Z",
     "shell.execute_reply": "2023-08-03T20:49:30.137275Z"
    },
    "papermill": {
     "duration": 2.43499,
     "end_time": "2023-08-03T20:49:30.141168",
     "exception": false,
     "start_time": "2023-08-03T20:49:27.706178",
     "status": "completed"
    },
    "tags": []
   },
   "outputs": [
    {
     "name": "stdout",
     "output_type": "stream",
     "text": [
      "20.13845501925582\n"
     ]
    }
   ],
   "source": [
    "session_lengths = train['session'].value_counts()\n",
    "print(session_lengths.mean())"
   ]
  },
  {
   "cell_type": "code",
   "execution_count": 10,
   "id": "f1815a12",
   "metadata": {
    "execution": {
     "iopub.execute_input": "2023-08-03T20:49:30.159277Z",
     "iopub.status.busy": "2023-08-03T20:49:30.158026Z",
     "iopub.status.idle": "2023-08-03T20:49:47.970876Z",
     "shell.execute_reply": "2023-08-03T20:49:47.969797Z"
    },
    "papermill": {
     "duration": 17.824248,
     "end_time": "2023-08-03T20:49:47.973275",
     "exception": false,
     "start_time": "2023-08-03T20:49:30.149027",
     "status": "completed"
    },
    "tags": []
   },
   "outputs": [
    {
     "data": {
      "image/png": "[encoded data removed]",
      "text/plain": [
       "<Figure size 1000x800 with 1 Axes>"
      ]
     },
     "metadata": {},
     "output_type": "display_data"
    }
   ],
   "source": [
    "# Frequency of aids\n",
    "aid_freqs = train['aid'].value_counts()\n",
    "freqs_counts = aid_freqs.value_counts()\n",
    "\n",
    "plt.figure(figsize=(10,8))\n",
    "# sns.barplot(x=aid_freqs.index[:500], y=aid_freqs.values[:500])\n",
    "plt.bar(freqs_counts.index, freqs_counts.values)\n",
    "plt.title('AID Counts')\n",
    "plt.ylabel('Frequency')\n",
    "plt.xlabel('AID Count')\n",
    "plt.xlim(0, 250)\n",
    "plt.savefig('aid_freqs.png')"
   ]
  },
  {
   "cell_type": "code",
   "execution_count": 11,
   "id": "d7d7aeb8",
   "metadata": {
    "execution": {
     "iopub.execute_input": "2023-08-03T20:49:47.988605Z",
     "iopub.status.busy": "2023-08-03T20:49:47.988207Z",
     "iopub.status.idle": "2023-08-03T20:49:47.992408Z",
     "shell.execute_reply": "2023-08-03T20:49:47.991550Z"
    },
    "papermill": {
     "duration": 0.014659,
     "end_time": "2023-08-03T20:49:47.994618",
     "exception": false,
     "start_time": "2023-08-03T20:49:47.979959",
     "status": "completed"
    },
    "tags": []
   },
   "outputs": [],
   "source": [
    "# # Frequency of aids\n",
    "# aid_freqs = train['aid'].value_counts().sort_index()\n",
    "\n",
    "# plt.figure(figsize=(10,8))\n",
    "# sns.barplot(x=aid_freqs.index[:60], y=aid_freqs.values[:60])\n",
    "# # plt.bar(aid_freqs.index[:500], aid_freqs.values[:500])\n",
    "# plt.title('AID Frequencies')\n",
    "# plt.ylabel('Frequency')\n",
    "# plt.xlabel('AID')\n",
    "# plt.xlim(0, 50)\n",
    "# plt.savefig('aid_freqs.png')"
   ]
  },
  {
   "cell_type": "code",
   "execution_count": null,
   "id": "a5215384",
   "metadata": {
    "papermill": {
     "duration": 0.006671,
     "end_time": "2023-08-03T20:49:48.007882",
     "exception": false,
     "start_time": "2023-08-03T20:49:48.001211",
     "status": "completed"
    },
    "tags": []
   },
   "outputs": [],
   "source": []
  }
 ],
 "metadata": {
  "kernelspec": {
   "display_name": "Python 3",
   "language": "python",
   "name": "python3"
  },
  "language_info": {
   "codemirror_mode": {
    "name": "ipython",
    "version": 3
   },
   "file_extension": ".py",
   "mimetype": "text/x-python",
   "name": "python",
   "nbconvert_exporter": "python",
   "pygments_lexer": "ipython3",
   "version": "3.10.12"
  },
  "papermill": {
   "default_parameters": {},
   "duration": 69.201074,
   "end_time": "2023-08-03T20:49:49.439262",
   "environment_variables": {},
   "exception": null,
   "input_path": "__notebook__.ipynb",
   "output_path": "__notebook__.ipynb",
   "parameters": {},
   "start_time": "2023-08-03T20:48:40.238188",
   "version": "2.4.0"
  }
 },
 "nbformat": 4,
 "nbformat_minor": 5
}
